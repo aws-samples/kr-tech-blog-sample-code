{
 "cells": [
  {
   "cell_type": "code",
   "execution_count": null,
   "id": "297fb41f-5479-49e6-acc2-70c81c85e2bc",
   "metadata": {},
   "outputs": [],
   "source": [
    "# Agent ID 설정\n",
    "agent_id = \"YOUR_AGENT_ID\"  # Agent ID\n",
    "agent_alias_id = \"TSTALIASID\"  # Test Agent Alias ID that is created initialization step\n",
    "session_id = \"test-session-1\"\n",
    "region_name = \"us-west-2\""
   ]
  },
  {
   "cell_type": "code",
   "execution_count": 2,
   "id": "1c009712-69ea-401b-9626-dbb93160272f",
   "metadata": {},
   "outputs": [],
   "source": [
    "import boto3\n",
    "from botocore.config import Config\n",
    "import json\n",
    "import time\n",
    "\n",
    "# Bedrock 클라이언트 생성\n",
    "bedrock_agent_runtime = boto3.client(\n",
    "    service_name='bedrock-agent-runtime',\n",
    "    region_name=region_name,\n",
    "    config=Config(read_timeout=3600)\n",
    ")"
   ]
  },
  {
   "cell_type": "code",
   "execution_count": 3,
   "id": "96da85c0-0548-4da2-b538-b4504bade4fb",
   "metadata": {},
   "outputs": [],
   "source": [
    "def ask_agent(question):\n",
    "    print(f\"\\nQ: {question}\")\n",
    "    \n",
    "    try:\n",
    "        response = bedrock_agent_runtime.invoke_agent(\n",
    "            agentId=agent_id,\n",
    "            agentAliasId=agent_alias_id,\n",
    "            sessionId=session_id,\n",
    "            inputText=question\n",
    "        )\n",
    "        \n",
    "        # EventStream 처리\n",
    "        completion = response['completion']\n",
    "        \n",
    "        print(\"A: \", end='', flush=True)\n",
    "        # EventStream의 각 이벤트를 처리하며 실시간 출력\n",
    "        for event in completion:\n",
    "            if 'chunk' in event:\n",
    "                chunk_data = event['chunk']['bytes'].decode()\n",
    "                try:\n",
    "                    # JSON 형식으로 파싱 시도\n",
    "                    chunk_json = json.loads(chunk_data)\n",
    "                    if isinstance(chunk_json, dict) and 'completion' in chunk_json:\n",
    "                        text = chunk_json['completion']\n",
    "                    else:\n",
    "                        text = str(chunk_json)\n",
    "                except json.JSONDecodeError:\n",
    "                    text = chunk_data\n",
    "                \n",
    "                # 한 글자씩 출력\n",
    "                for char in text:\n",
    "                    print(char, end='', flush=True)\n",
    "                    time.sleep(0.02)  # 출력 속도 조절\n",
    "        \n",
    "        print()  # 줄바꿈\n",
    "    \n",
    "    except Exception as e:\n",
    "        print(f\"Error: {str(e)}\")"
   ]
  },
  {
   "cell_type": "code",
   "execution_count": 4,
   "id": "01f39bf3-c90b-4f87-9d67-9141c5fe46a8",
   "metadata": {},
   "outputs": [
    {
     "name": "stdout",
     "output_type": "stream",
     "text": [
      "\n",
      "Q: AWS와 관련된 뉴스 3개를 알려주세요.\n",
      "A: 다음은 AWS와 관련된 최신 뉴스 3개입니다:\n",
      "\n",
      "1. **What's New at AWS - Cloud Innovation & News**\n",
      "   - URL: [https://aws.amazon.com/new/](https://aws.amazon.com/new/)\n",
      "   - 요약: AWS는 지속적으로 새로운 기능을 추가하여 최신 기술을 활용하여 더 빠르게 실험하고 혁신할 수 있도록 합니다. What's New 게시물은 우리가 바로 그렇게 하고 있음을 보여주며, 모든 AWS 서비스, 기능 및 지역 확장 발표가 출시될 때마다 간략한 개요를 제공합니다.\n",
      "\n",
      "2. **Latest news about Amazon and AWS**\n",
      "   - URL: [https://www.aboutamazon.com/amazon-aws-news](https://www.aboutamazon.com/amazon-aws-news)\n",
      "   - 요약: Amazon Web Services(AWS)에 대한 최신 뉴스 및 업데이트를 읽으세요. Bedrock, Q 및 기타 도구의 최신 개발 사항, 기술 교육, 커뮤니티 이니셔티브 등에 대해 알아보세요. ... Amazon Web Services(AWS)는 200개 이상의 완전한 기능을 갖춘 서비스를 데이터에서 사용할 수 있는 세계에서 가장 포괄적이고 널리 채택된 클라우드입니다.\n",
      "\n",
      "3. **The 10 Biggest AWS News Stories Of 2024: CEO Exit, AI And Partners - CRN**\n",
      "   - URL: [https://www.crn.com/news/cloud/2024/top-10-biggest-aws-news-stories-of-2024-ceo-exit-ai-and-partners](https://www.crn.com/news/cloud/2024/top-10-biggest-aws-news-stories-of-2024-ceo-exit-ai-and-partners)\n",
      "   - 요약: CRN은 2024년 AWS의 가장 중요한 사건을 검토합니다. 새로운 CEO Matt Garman, AI 혁신, 칩 제조 및 클라우드 시장 지배력을 포함합니다. AWS가 AI 스타트업에 수십억 달러를 투자하고, 직원들에게 사무실 복귀를 의무화하고, VMware 파트너와의 관계를 단절한 방법을 알아보세요.\n",
      "\n",
      "\n",
      "Q: 현재 서울의 시간을 HH:mm:ss 형식으로 알려주세요.\n",
      "A: 현재 서울의 시간은 11:47:21입니다.\n"
     ]
    }
   ],
   "source": [
    "# example questions\n",
    "questions = [\n",
    "    \"AWS와 관련된 뉴스 3개를 알려주세요.\",\n",
    "#     \"Tell me three AWS related news stories.\",\n",
    "    \"현재 서울의 시간을 HH:mm:ss 형식으로 알려주세요.\",\n",
    "#     \"Tell me the current time in Seoul using the format HH:mm:ss.\"\n",
    "]\n",
    "\n",
    "# ask multiple questions\n",
    "for question in questions:\n",
    "    answer = ask_agent(question)"
   ]
  },
  {
   "cell_type": "code",
   "execution_count": null,
   "id": "a7880233",
   "metadata": {},
   "outputs": [],
   "source": []
  }
 ],
 "metadata": {
  "kernelspec": {
   "display_name": "conda_python3",
   "language": "python",
   "name": "conda_python3"
  },
  "language_info": {
   "codemirror_mode": {
    "name": "ipython",
    "version": 3
   },
   "file_extension": ".py",
   "mimetype": "text/x-python",
   "name": "python",
   "nbconvert_exporter": "python",
   "pygments_lexer": "ipython3",
   "version": "3.10.17"
  }
 },
 "nbformat": 4,
 "nbformat_minor": 5
}
