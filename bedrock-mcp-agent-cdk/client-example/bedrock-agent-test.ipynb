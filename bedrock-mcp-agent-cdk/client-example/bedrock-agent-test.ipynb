{
 "cells": [
  {
   "cell_type": "code",
   "execution_count": 1,
   "id": "297fb41f-5479-49e6-acc2-70c81c85e2bc",
   "metadata": {},
   "outputs": [],
   "source": [
    "# Agent ID 설정\n",
    "agent_id = \"YOUR_AGENT_ID\"  # Agent ID\n",
    "agent_alias_id = \"TSTALIASID\"  # Test Agent Alias ID that is created initialization step\n",
    "session_id = \"test-session-1\"\n",
    "region_name = \"us-west-2\""
   ]
  },
  {
   "cell_type": "code",
   "execution_count": 2,
   "id": "1c009712-69ea-401b-9626-dbb93160272f",
   "metadata": {},
   "outputs": [],
   "source": [
    "import boto3\n",
    "import json\n",
    "import time\n",
    "\n",
    "# Bedrock 클라이언트 생성\n",
    "bedrock_agent_runtime = boto3.client(\n",
    "    service_name='bedrock-agent-runtime',\n",
    "    region_name=region_name\n",
    ")"
   ]
  },
  {
   "cell_type": "code",
   "execution_count": 3,
   "id": "96da85c0-0548-4da2-b538-b4504bade4fb",
   "metadata": {},
   "outputs": [],
   "source": [
    "def ask_agent(question):\n",
    "    print(f\"\\nQ: {question}\")\n",
    "    \n",
    "    try:\n",
    "        response = bedrock_agent_runtime.invoke_agent(\n",
    "            agentId=agent_id,\n",
    "            agentAliasId=agent_alias_id,\n",
    "            sessionId=session_id,\n",
    "            inputText=question\n",
    "        )\n",
    "        \n",
    "        # EventStream 처리\n",
    "        completion = response['completion']\n",
    "        \n",
    "        print(\"A: \", end='', flush=True)\n",
    "        # EventStream의 각 이벤트를 처리하며 실시간 출력\n",
    "        for event in completion:\n",
    "            if 'chunk' in event:\n",
    "                chunk_data = event['chunk']['bytes'].decode()\n",
    "                try:\n",
    "                    # JSON 형식으로 파싱 시도\n",
    "                    chunk_json = json.loads(chunk_data)\n",
    "                    if isinstance(chunk_json, dict) and 'completion' in chunk_json:\n",
    "                        text = chunk_json['completion']\n",
    "                    else:\n",
    "                        text = str(chunk_json)\n",
    "                except json.JSONDecodeError:\n",
    "                    text = chunk_data\n",
    "                \n",
    "                # 한 글자씩 출력\n",
    "                for char in text:\n",
    "                    print(char, end='', flush=True)\n",
    "                    time.sleep(0.02)  # 출력 속도 조절\n",
    "        \n",
    "        print()  # 줄바꿈\n",
    "    \n",
    "    except Exception as e:\n",
    "        print(f\"Error: {str(e)}\")"
   ]
  },
  {
   "cell_type": "code",
   "execution_count": 4,
   "id": "01f39bf3-c90b-4f87-9d67-9141c5fe46a8",
   "metadata": {},
   "outputs": [
    {
     "name": "stdout",
     "output_type": "stream",
     "text": [
      "\n",
      "Q: Tell me what the weather was like in Seoul on May 16th, 2025.\n",
      "A: The weather in Seoul on May 16th, 2025, is expected to be as follows:\n",
      "- Temperature: High of 70°F (21°C) and low of 59°F (15°C)\n",
      "- Precipitation: 0.307 inches (7.8 mm) with a 70% chance of rain\n",
      "- Humidity: 77%\n",
      "- Sunrise: 05:22:08\n",
      "- Sunset: 19:35:13\n",
      "\n",
      "This information is based on the <REDACTED> results from DuckDuckGo.\n",
      "\n",
      "\n",
      "Q: Tell me the current time in Seoul using the format HH:mm:ss.\n",
      "A: The current time in Seoul is 13:38:21.\n"
     ]
    }
   ],
   "source": [
    "# example questions\n",
    "questions = [\n",
    "    # \"2025년 5월 16일 서울의 날씨가 어땠었는지 알려주세요.\",\n",
    "    \"Tell me what the weather was like in Seoul on May 16th, 2025.\",\n",
    "    # \"현재 서울의 시간을 24시간 형식으로 알려주세요.\",\n",
    "    \"Tell me the current time in Seoul using the format HH:mm:ss.\"\n",
    "]\n",
    "\n",
    "# ask multiple questions\n",
    "for question in questions:\n",
    "    answer = ask_agent(question)"
   ]
  }
 ],
 "metadata": {
  "kernelspec": {
   "display_name": "conda_python3",
   "language": "python",
   "name": "conda_python3"
  },
  "language_info": {
   "codemirror_mode": {
    "name": "ipython",
    "version": 3
   },
   "file_extension": ".py",
   "mimetype": "text/x-python",
   "name": "python",
   "nbconvert_exporter": "python",
   "pygments_lexer": "ipython3",
   "version": "3.10.17"
  }
 },
 "nbformat": 4,
 "nbformat_minor": 5
}
